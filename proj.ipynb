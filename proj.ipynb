{
 "cells": [
  {
   "cell_type": "code",
   "execution_count": 7,
   "id": "20ac9d5b",
   "metadata": {},
   "outputs": [],
   "source": [
    "import pandas as pd \n",
    "import numpy as numpy\n",
    "from sklearn.feature_extraction.text import TfidfVectorizer\n",
    "from sklearn.metrics.pairwise import cosine_similarity"
   ]
  },
  {
   "cell_type": "code",
   "execution_count": 5,
   "id": "66f3d93a",
   "metadata": {},
   "outputs": [
    {
     "name": "stdout",
     "output_type": "stream",
     "text": [
      "<class 'pandas.core.frame.DataFrame'>\n",
      "RangeIndex: 568454 entries, 0 to 568453\n",
      "Data columns (total 6 columns):\n",
      " #   Column     Non-Null Count   Dtype \n",
      "---  ------     --------------   ----- \n",
      " 0   UserId     568454 non-null  object\n",
      " 1   ProductId  568454 non-null  object\n",
      " 2   Score      568454 non-null  int64 \n",
      " 3   Time       568454 non-null  int64 \n",
      " 4   Summary    568427 non-null  object\n",
      " 5   Text       568454 non-null  object\n",
      "dtypes: int64(2), object(4)\n",
      "memory usage: 26.0+ MB\n"
     ]
    }
   ],
   "source": [
    "df = pd.read_csv(\"Reviews.csv\")\n",
    "df = df[['UserId', 'ProductId', 'Score', 'Time', 'Summary', 'Text']]\n",
    "df.info()\n",
    "df.dropna(inplace=True)\n",
    "df = df.head(10000)  \n"
   ]
  },
  {
   "cell_type": "code",
   "execution_count": 8,
   "id": "80a996e1",
   "metadata": {},
   "outputs": [
    {
     "data": {
      "text/html": [
       "<div>\n",
       "<style scoped>\n",
       "    .dataframe tbody tr th:only-of-type {\n",
       "        vertical-align: middle;\n",
       "    }\n",
       "\n",
       "    .dataframe tbody tr th {\n",
       "        vertical-align: top;\n",
       "    }\n",
       "\n",
       "    .dataframe thead th {\n",
       "        text-align: right;\n",
       "    }\n",
       "</style>\n",
       "<table border=\"1\" class=\"dataframe\">\n",
       "  <thead>\n",
       "    <tr style=\"text-align: right;\">\n",
       "      <th></th>\n",
       "      <th>ProductId</th>\n",
       "      <th>Summary</th>\n",
       "    </tr>\n",
       "  </thead>\n",
       "  <tbody>\n",
       "    <tr>\n",
       "      <th>29</th>\n",
       "      <td>B0001PB9FY</td>\n",
       "      <td>The Best Hot Sauce in the World</td>\n",
       "    </tr>\n",
       "    <tr>\n",
       "      <th>992</th>\n",
       "      <td>B006F2NYI2</td>\n",
       "      <td>Tasty hot sauce!</td>\n",
       "    </tr>\n",
       "    <tr>\n",
       "      <th>987</th>\n",
       "      <td>B006F2NYI2</td>\n",
       "      <td>Awesome Sauce</td>\n",
       "    </tr>\n",
       "    <tr>\n",
       "      <th>3778</th>\n",
       "      <td>B00016UX0K</td>\n",
       "      <td>great sauce</td>\n",
       "    </tr>\n",
       "    <tr>\n",
       "      <th>5437</th>\n",
       "      <td>B008YGWIZM</td>\n",
       "      <td>This stuff is the \"put on everything\" sauce</td>\n",
       "    </tr>\n",
       "  </tbody>\n",
       "</table>\n",
       "</div>"
      ],
      "text/plain": [
       "       ProductId                                      Summary\n",
       "29    B0001PB9FY              The Best Hot Sauce in the World\n",
       "992   B006F2NYI2                             Tasty hot sauce!\n",
       "987   B006F2NYI2                                Awesome Sauce\n",
       "3778  B00016UX0K                                  great sauce\n",
       "5437  B008YGWIZM  This stuff is the \"put on everything\" sauce"
      ]
     },
     "execution_count": 8,
     "metadata": {},
     "output_type": "execute_result"
    }
   ],
   "source": [
    "# Combine text fields\n",
    "df['content'] = df['Summary'] + \" \" + df['Text']\n",
    "\n",
    "# TF-IDF Vectorization\n",
    "tfidf = TfidfVectorizer(stop_words='english')\n",
    "tfidf_matrix = tfidf.fit_transform(df['content'])\n",
    "\n",
    "# Cosine Similarity Matrix\n",
    "cosine_sim = cosine_similarity(tfidf_matrix, tfidf_matrix)\n",
    "\n",
    "# Function to recommend based on review content\n",
    "def recommend_content_based(idx, cosine_sim=cosine_sim):\n",
    "    sim_scores = list(enumerate(cosine_sim[idx]))\n",
    "    sim_scores = sorted(sim_scores, key=lambda x: x[1], reverse=True)\n",
    "    sim_scores = sim_scores[1:6]  # top 5\n",
    "    item_indices = [i[0] for i in sim_scores]\n",
    "    return df.iloc[item_indices][['ProductId', 'Summary']]\n",
    "\n",
    "# Example usage\n",
    "recommend_content_based(10)\n"
   ]
  },
  {
   "cell_type": "code",
   "execution_count": 10,
   "id": "be6d82b9",
   "metadata": {},
   "outputs": [
    {
     "data": {
      "text/plain": [
       "['ARYVQL4N737A1',\n",
       " 'AJ613OLZZUG7V',\n",
       " 'AFKW14U97Z6QO',\n",
       " 'AAAS38B98HMIK',\n",
       " 'A3RXAU2N8KV45G',\n",
       " 'A3KLWF6WQ5BNYO']"
      ]
     },
     "execution_count": 10,
     "metadata": {},
     "output_type": "execute_result"
    }
   ],
   "source": [
    "from sklearn.neighbors import NearestNeighbors\n",
    "from scipy.sparse import csr_matrix\n",
    "\n",
    "# Create User-Item matrix\n",
    "pivot = df.pivot_table(index='UserId', columns='ProductId', values='Score').fillna(0)\n",
    "matrix = csr_matrix(pivot.values)\n",
    "\n",
    "model = NearestNeighbors(metric='cosine', algorithm='brute')\n",
    "model.fit(matrix)\n",
    "\n",
    "# Function to find similar users\n",
    "def find_similar_users(user_id):\n",
    "    user_idx = list(pivot.index).index(user_id)\n",
    "    distances, indices = model.kneighbors([pivot.iloc[user_idx]], n_neighbors=6)\n",
    "    similar_users = [pivot.index[i] for i in indices.flatten()]\n",
    "    return similar_users\n",
    "\n",
    "# Example usage\n",
    "find_similar_users('AZOF9E17RGZH8')\n"
   ]
  },
  {
   "cell_type": "code",
   "execution_count": 25,
   "id": "ab00e104",
   "metadata": {},
   "outputs": [],
   "source": [
    "\n",
    "\n",
    "import mysql.connector\n",
    "conn = mysql.connector.connect(\n",
    "    host=\"localhost\",\n",
    "    user=\"root\",\n",
    "    password=\"root@123\",\n",
    "    database=\"ecommerce_db\"\n",
    ")\n",
    "cursor = conn.cursor()\n",
    "\n",
    "\n",
    "\n",
    "\n"
   ]
  },
  {
   "cell_type": "code",
   "execution_count": 26,
   "id": "d2ee38df",
   "metadata": {},
   "outputs": [],
   "source": [
    "# Example insert (replace with your actual loop)\n",
    "sql = \"INSERT INTO recommendations (user_id, product_id, summary) VALUES (%s, %s, %s)\"\n",
    "values = (\"ARYVQL4N737A1\", \"B0001PB9FY\", \"The Best Hot Sauce in the World\")\n",
    "cursor.execute(sql, values)\n",
    "\n"
   ]
  },
  {
   "cell_type": "code",
   "execution_count": 27,
   "id": "f0673071",
   "metadata": {},
   "outputs": [],
   "source": [
    "\n",
    "# Insert a few recommendations\n",
    "for idx, row in df.iterrows():\n",
    "    sql = \"INSERT INTO recommendations (user_id, product_id, summary) VALUES (%s, %s, %s)\"\n",
    "    cursor.execute(sql, (row['UserId'], row['ProductId'], row['Summary']))\n",
    "conn.commit()\n",
    "conn.close()"
   ]
  }
 ],
 "metadata": {
  "kernelspec": {
   "display_name": "Python 3",
   "language": "python",
   "name": "python3"
  },
  "language_info": {
   "codemirror_mode": {
    "name": "ipython",
    "version": 3
   },
   "file_extension": ".py",
   "mimetype": "text/x-python",
   "name": "python",
   "nbconvert_exporter": "python",
   "pygments_lexer": "ipython3",
   "version": "3.13.0"
  }
 },
 "nbformat": 4,
 "nbformat_minor": 5
}
